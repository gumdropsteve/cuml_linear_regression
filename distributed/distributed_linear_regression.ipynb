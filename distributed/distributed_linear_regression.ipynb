{
 "cells": [
  {
   "cell_type": "markdown",
   "metadata": {},
   "source": [
    "# [Distributed Linear Regression with cuML](https://medium.com/dropout-analytics/distributed-linear-regression-with-cuml-b4f32d727e22?source=friends_link&sk=458531bdbb4cf88060d06736f2d4c646)\n",
    "\n",
    "In this Notebook we're going to build a distributed cuML `LinearRegression` model. \n",
    "\n",
    "Start by identifying your `client`, which is how BlazingSQL and cuML connect to all available GPUs and distribute."
   ]
  },
  {
   "cell_type": "code",
   "execution_count": null,
   "metadata": {},
   "outputs": [],
   "source": [
    "from dask_cuda import LocalCUDACluster\n",
    "from dask.distributed import Client\n",
    "\n",
    "cluster = LocalCUDACluster()\n",
    "client = Client(cluster)"
   ]
  },
  {
   "cell_type": "markdown",
   "metadata": {},
   "source": [
    "## ETL - Data Prep"
   ]
  },
  {
   "cell_type": "markdown",
   "metadata": {},
   "source": [
    "With `client` out of the way, let's grab our data. \n",
    "\n",
    "Initialize a distributed BlazingContext instance, and create a table from a sample of the NYC Taxi dataset stored in a public AWS S3 bucket."
   ]
  },
  {
   "cell_type": "code",
   "execution_count": null,
   "metadata": {},
   "outputs": [],
   "source": [
    "from blazingsql import BlazingContext\n",
    "\n",
    "# initilize BlazingContext distributed \n",
    "bc = BlazingContext(dask_client=client, network_interface='lo')"
   ]
  },
  {
   "cell_type": "code",
   "execution_count": null,
   "metadata": {},
   "outputs": [],
   "source": [
    "# register AWS S3 bucket \n",
    "bc.s3('blazingsql-colab', bucket_name='blazingsql-colab')\n",
    "\n",
    "# create table from parquet file in that S3 bucket\n",
    "bc.create_table('taxi', 's3://blazingsql-colab/yellow_taxi/1_0_0.parquet')"
   ]
  },
  {
   "cell_type": "markdown",
   "metadata": {},
   "source": [
    "Our model will take three X variables (`passenger_count`, `trip_distance`, `tolls`) and, based on those values, try to predict the `fare_amount` (y) of any given ride. \n",
    "\n",
    "Let's query (`.sql()`) for all of these, and keep the dask_cudf.DataFrame of the results as a variable df to see what it's about."
   ]
  },
  {
   "cell_type": "code",
   "execution_count": null,
   "metadata": {},
   "outputs": [],
   "source": [
    "query = '''\n",
    "        select\n",
    "            passenger_count,\n",
    "            trip_distance,\n",
    "            Tolls_amount as tolls,\n",
    "            Fare_amount as fare_amount\n",
    "        from \n",
    "            taxi\n",
    "            '''\n",
    "\n",
    "df = bc.sql(query)\n",
    "\n",
    "# queries return as dask_cudf.DataFrame\n",
    "type(df)"
   ]
  },
  {
   "cell_type": "code",
   "execution_count": null,
   "metadata": {},
   "outputs": [],
   "source": [
    "df"
   ]
  },
  {
   "cell_type": "markdown",
   "metadata": {},
   "source": [
    "cuML expects y values to be float64 dtype, we can easily convert `fare_amount` (currently float32 dtype) to match that with `.astype()`, and then call `.tail()`  -- _which, like .compute() and .head(), converts the dask_cudf.DataFrame to a cudf.DataFrame_ --  to display some data."
   ]
  },
  {
   "cell_type": "code",
   "execution_count": null,
   "metadata": {},
   "outputs": [],
   "source": [
    "# adjust fare_amount to be expected dtype\n",
    "df.fare_amount = df.fare_amount.astype('float64')\n",
    "\n",
    "# calling .compute(), .head() or .tail() converts to cudf.DataFrame\n",
    "df.tail()"
   ]
  },
  {
   "cell_type": "markdown",
   "metadata": {},
   "source": [
    "To conclude the ETL process, noting that we have 18.8M rows to work with, let's split the data into training and testing datasets by taking the first 15,000,000 rows as `train_data` and the last 3,000,000 rows as `test_data`."
   ]
  },
  {
   "cell_type": "code",
   "execution_count": null,
   "metadata": {},
   "outputs": [],
   "source": [
    "# crude train / test split\n",
    "bc.create_table('train_data', df.head(15000000))\n",
    "\n",
    "bc.create_table('test_data', df.tail(3000000))"
   ]
  },
  {
   "cell_type": "markdown",
   "metadata": {},
   "source": [
    "## Distributed Linear Regression"
   ]
  },
  {
   "cell_type": "markdown",
   "metadata": {},
   "source": [
    "It's time to build our model! Start by importing `LinearRegression` from cuml.dask's `linear_model`, and pass in client upon initialization to link the model with our GPU cluster."
   ]
  },
  {
   "cell_type": "code",
   "execution_count": null,
   "metadata": {},
   "outputs": [],
   "source": [
    "from cuml.dask.linear_model import LinearRegression\n",
    "\n",
    "lr = LinearRegression(client=client)"
   ]
  },
  {
   "cell_type": "markdown",
   "metadata": {},
   "source": [
    "`.fit()` the model with training data so it can learn how our X and y values interact."
   ]
  },
  {
   "cell_type": "code",
   "execution_count": null,
   "metadata": {},
   "outputs": [],
   "source": [
    "# training X & y values\n",
    "X_train = bc.sql('SELECT passenger_count, trip_distance, tolls FROM train_data')\n",
    "y_train = bc.sql('SELECT fare_amount FROM train_data').fare_amount"
   ]
  },
  {
   "cell_type": "code",
   "execution_count": null,
   "metadata": {},
   "outputs": [],
   "source": [
    "lr.fit(X_train, y_train)"
   ]
  },
  {
   "cell_type": "markdown",
   "metadata": {},
   "source": [
    "Then `.predict()` the `fare_amount` of the taxi rides in our test dataset. Predictions are returned as a dask_cudf.Series."
   ]
  },
  {
   "cell_type": "code",
   "execution_count": null,
   "metadata": {},
   "outputs": [],
   "source": [
    "# testing X & y values\n",
    "X_test = bc.sql('SELECT passenger_count, trip_distance, tolls FROM test_data')\n",
    "y_test = bc.sql('SELECT fare_amount FROM test_data').fare_amount\n",
    "\n",
    "preds = lr.predict(X_test)\n",
    "\n",
    "# predictions return as dask_cudf.Series\n",
    "type(preds)"
   ]
  },
  {
   "cell_type": "markdown",
   "metadata": {},
   "source": [
    "## Results\n",
    "\n",
    "Let's make a quick dataframe to compare the first 10 actual fares with the first 10 predicted fares side by side."
   ]
  },
  {
   "cell_type": "code",
   "execution_count": null,
   "metadata": {},
   "outputs": [],
   "source": [
    "r_df = bc.sql('SELECT fare_amount AS actual FROM test_data LIMIT 10')\n",
    "\n",
    "r_df = r_df.compute()\n",
    "\n",
    "r_df['predicted'] = preds.head(10)\n",
    "\n",
    "r_df"
   ]
  },
  {
   "cell_type": "markdown",
   "metadata": {},
   "source": [
    "Those are pretty close! Let's scatter the first 100 actual and predicted values to get a better picture."
   ]
  },
  {
   "cell_type": "code",
   "execution_count": null,
   "metadata": {},
   "outputs": [],
   "source": [
    "r_df = bc.sql('SELECT fare_amount AS actual FROM test_data LIMIT 100')\n",
    "\n",
    "r_df = r_df.compute()\n",
    "\n",
    "r_df['predicted'] = preds.head(100)\n",
    "\n",
    "r_df.to_pandas().plot(kind='scatter', x='actual', y='predicted')"
   ]
  },
  {
   "cell_type": "markdown",
   "metadata": {},
   "source": [
    "Looks like we're almost on the money, with some outliers throwing us off past $40.\n",
    "\n",
    "We can `.compute().to_pandas()` and score the model with sklearn's r2_score() to find out."
   ]
  },
  {
   "cell_type": "code",
   "execution_count": null,
   "metadata": {},
   "outputs": [],
   "source": [
    "from sklearn.metrics import r2_score\n",
    "\n",
    "# convert to pandas.DataFrame for sklearn r2 score\n",
    "actual = y_test.compute().to_pandas()\n",
    "predicted = preds.compute().to_pandas()\n",
    "\n",
    "r2_score(y_true=actual, y_pred=predicted)"
   ]
  },
  {
   "attachments": {
    "image.png": {
     "image/png": "[encoded data removed]"
    }
   },
   "cell_type": "markdown",
   "metadata": {},
   "source": [
    "## Try for yourself\n",
    "\n",
    "You can run this demo (no set up required) by cloning the [Notebook's gist](https://gist.github.com/gumdropsteve/ceab0ffdcfef63317747d33501137108) into a BlazingSQL Notebooks environment with this command in Terminal:\n",
    "\n",
    "```bash\n",
    "git clone https://gist.github.com/gumdropsteve/ceab0ffdcfef63317747d33501137108 distributed_lr_story\n",
    "```\n",
    "\n",
    "[![image.png](https://miro.medium.com/max/1400/0*KYxjArF5xE2957G-)](https://bit.ly/bsql-notebooks)"
   ]
  }
 ],
 "metadata": {
  "kernelspec": {
   "display_name": "RAPIDS Stable",
   "language": "python",
   "name": "rapids-stable"
  },
  "language_info": {
   "codemirror_mode": {
    "name": "ipython",
    "version": 3
   },
   "file_extension": ".py",
   "mimetype": "text/x-python",
   "name": "python",
   "nbconvert_exporter": "python",
   "pygments_lexer": "ipython3",
   "version": "3.7.6"
  }
 },
 "nbformat": 4,
 "nbformat_minor": 4
}
