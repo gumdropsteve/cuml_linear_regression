{
 "cells": [
  {
   "cell_type": "markdown",
   "metadata": {
    "colab_type": "text",
    "id": "2tZ3RLnlkrkg"
   },
   "source": [
    "# Intro to  Linear Regression with cuML\n",
    "Corresponding notebook to [*Beginner’s Guide to Linear Regression in Python with cuML*](http://bit.ly/cuml_lin_reg_friend) story on Medium\n",
    "\n",
    "Linear Regression is a simple machine learning model where the response `y` is modelled by a linear combination of the predictors in `X`. The `LinearRegression` function implemented in the `cuML` library allows users to change the `fit_intercept`, `normalize`, and `algorithm` parameters. \n",
    "\n",
    "Here is a brief on RAPIDS' Linear Regression parameters:\n",
    "\n",
    "- `algorithm`: 'eig' or 'svd' (default = 'eig')\n",
    "    - `Eig` uses a eigendecomposition of the covariance matrix, and is much faster\n",
    "    - `SVD` is slower, but guaranteed to be stable\n",
    "- `fit_intercept`: boolean (default = True)\n",
    "  - If `True`, `LinearRegresssion` tries to correct for the global mean of `y`\n",
    "  - If `False`, the model expects that you have centered the data.\n",
    "- `normalize`: boolean (default = False)\n",
    "  - If True, the predictors in X will be normalized by dividing by it’s L2 norm\n",
    "  - If False, no scaling will be done\n",
    "\n",
    "Methods that can be used with `LinearRegression` are:\n",
    "\n",
    "- `fit`: Fit the model with `X` and `y`\n",
    "- `get_params`: Sklearn style return parameter state\n",
    "- `predict`: Predicts the `y` for `X`\n",
    "- `set_params`: Sklearn style set parameter state to dictionary of params\n",
    "\n",
    "`cuML`'s `LinearRegression` expects expects either `cuDF` DataFrame or `NumPy` matrix inputs"
   ]
  },
  {
   "cell_type": "markdown",
   "metadata": {
    "colab_type": "text",
    "id": "N20le3_KlP3O"
   },
   "source": [
    "## Load data\n",
    "- for this demo, we will be utilizing the Boston housing dataset from `sklearn`\n",
    "  - start by loading in the set and printing a map of the contents"
   ]
  },
  {
   "cell_type": "code",
   "execution_count": null,
   "metadata": {
    "colab": {
     "base_uri": "https://localhost:8080/",
     "height": 34
    },
    "colab_type": "code",
    "id": "RFE-nxxlTajg",
    "outputId": "04f89e88-61a3-4dd2-9088-123b410e508c"
   },
   "outputs": [],
   "source": [
    "from sklearn.datasets import load_boston\n",
    "\n",
    "# load Boston dataset\n",
    "boston = load_boston()\n",
    "\n",
    "# let's see what's inside\n",
    "print(boston.keys())"
   ]
  },
  {
   "cell_type": "markdown",
   "metadata": {
    "colab_type": "text",
    "id": "wmcO8dxO0uOB"
   },
   "source": [
    "#### Boston house prices dataset\n",
    "- a description of the dataset is provided in `DESCR`\n",
    "  - let's explore "
   ]
  },
  {
   "cell_type": "code",
   "execution_count": null,
   "metadata": {
    "colab": {
     "base_uri": "https://localhost:8080/",
     "height": 923
    },
    "colab_type": "code",
    "id": "c3kLHAsP-Al2",
    "outputId": "02518c3c-7767-42a7-b6f4-6756ace741cc"
   },
   "outputs": [],
   "source": [
    "# what do we know about this dataset?\n",
    "print(boston.DESCR)"
   ]
  },
  {
   "cell_type": "markdown",
   "metadata": {
    "colab_type": "text",
    "id": "wI_sB78vE297"
   },
   "source": [
    "### Build Dataframe\n",
    "- Import `cuDF` and input the data into a DataFrame \n",
    "  - Then add a `PRICE` column equal to the `target` key"
   ]
  },
  {
   "cell_type": "code",
   "execution_count": null,
   "metadata": {
    "colab": {
     "base_uri": "https://localhost:8080/",
     "height": 206
    },
    "colab_type": "code",
    "id": "xiMmIZ8O5scJ",
    "outputId": "fd09db1f-fb41-4494-bb8b-eab6e18c258f"
   },
   "outputs": [],
   "source": [
    "import cudf\n",
    "\n",
    "# build dataframe from data key\n",
    "bos = cudf.DataFrame(list(boston.data))\n",
    "# set column names to feature_names\n",
    "bos.columns = boston.feature_names\n",
    "\n",
    "# add PRICE column from target\n",
    "bos['PRICE'] = boston.target\n",
    "\n",
    "# let's see what we're working with\n",
    "bos.head()"
   ]
  },
  {
   "cell_type": "markdown",
   "metadata": {
    "colab_type": "text",
    "id": "r2qrTxo4ljZp"
   },
   "source": [
    "### Split Train from Test\n",
    "- For basic Linear Regression, we will predict `PRICE` (Median value of owner-occupied homes) based on `TAX` (full-value property-tax rate per $10,000)\n",
    "  - Go ahead and trim data to just these columns"
   ]
  },
  {
   "cell_type": "code",
   "execution_count": null,
   "metadata": {
    "colab": {},
    "colab_type": "code",
    "id": "spaDB10E3okF"
   },
   "outputs": [],
   "source": [
    "# simple linear regression X and Y\n",
    "X = bos['TAX']\n",
    "Y = bos['PRICE']"
   ]
  },
  {
   "cell_type": "markdown",
   "metadata": {
    "colab_type": "text",
    "id": "4TKLv8FjIBuI"
   },
   "source": [
    "We can now set training and testing sets for our model\n",
    "- Use `cuML`'s `train_test_split` to do this\n",
    "  - Train on 70% of data\n",
    "  - Test on 30% of data"
   ]
  },
  {
   "cell_type": "code",
   "execution_count": null,
   "metadata": {
    "colab": {
     "base_uri": "https://localhost:8080/",
     "height": 86
    },
    "colab_type": "code",
    "id": "1DC6FHsNIKH_",
    "outputId": "4c932268-7a82-4ac3-c7b9-9966ffc2b12e"
   },
   "outputs": [],
   "source": [
    "from cuml.preprocessing.model_selection import train_test_split\n",
    "\n",
    "# train/test split (70:30)\n",
    "sX_train, sX_test, sY_train, sY_test = train_test_split(X, Y, train_size=0.7)\n",
    "\n",
    "# see what it looks like\n",
    "print(sX_train.shape)\n",
    "print(sX_test.shape)\n",
    "print(sY_train.shape)\n",
    "print(sY_test.shape)"
   ]
  },
  {
   "cell_type": "markdown",
   "metadata": {
    "colab_type": "text",
    "id": "ZLVg44gAmJG7"
   },
   "source": [
    "### Predict Values\n",
    "1. fit the model with `TAX` (*X_train*) and corresponding `PRICE` (*y_train*) values \n",
    "  - so it can build an understanding of their relationship \n",
    "2. predict `PRICE` (*y_test*) for a test set of `TAX` (*X_test*) values\n",
    "  - and compare `PRICE` predictions to actual median house (*y_test*) values\n",
    "    - use `sklearn`'s `mean_squared_error` to do this"
   ]
  },
  {
   "cell_type": "code",
   "execution_count": null,
   "metadata": {},
   "outputs": [],
   "source": [
    "from cuml import LinearRegression\n",
    "\n",
    "# call Linear Regression model\n",
    "slr = LinearRegression()"
   ]
  },
  {
   "cell_type": "code",
   "execution_count": null,
   "metadata": {},
   "outputs": [],
   "source": [
    "# train the model\n",
    "slr.fit(sX_train, sY_train)"
   ]
  },
  {
   "cell_type": "code",
   "execution_count": null,
   "metadata": {},
   "outputs": [],
   "source": [
    "# make predictions for test X values\n",
    "sY_pred = slr.predict(sX_test)"
   ]
  },
  {
   "cell_type": "code",
   "execution_count": null,
   "metadata": {},
   "outputs": [],
   "source": [
    "from cuml.metrics import mean_squared_error\n",
    "\n",
    "# calculate error\n",
    "mse = mean_squared_error(sY_test, sY_pred)\n",
    "\n",
    "print(f'Mean Squared Error: {mse}')"
   ]
  },
  {
   "cell_type": "markdown",
   "metadata": {
    "colab_type": "text",
    "id": "T7BXjkPSGwqd"
   },
   "source": [
    "3. visualize prediction accuracy with `matplotlib`"
   ]
  },
  {
   "cell_type": "code",
   "execution_count": null,
   "metadata": {
    "colab": {
     "base_uri": "https://localhost:8080/",
     "height": 305
    },
    "colab_type": "code",
    "id": "pp9RNPt_Iemk",
    "outputId": "22a22472-50ad-4bb3-d104-35e9e100b8b6"
   },
   "outputs": [],
   "source": [
    "import matplotlib.pyplot as plt\n",
    "\n",
    "# scatter actual and predicted results\n",
    "plt.scatter(sY_test.tolist(), sY_pred.tolist())\n",
    "\n",
    "# label graph\n",
    "plt.xlabel(\"Actual Prices: $Y_i$\")\n",
    "plt.ylabel(\"Predicted prices: $\\hat{Y}_i$\")\n",
    "plt.title(\"Prices vs Predicted prices: $Y_i$ vs $\\hat{Y}_i$\")\n",
    "\n",
    "plt.show()"
   ]
  },
  {
   "cell_type": "markdown",
   "metadata": {
    "colab_type": "text",
    "id": "8MqX73B4s5tv"
   },
   "source": [
    "## Multiple Linear Regression \n",
    "- Our mean squared error for Simple Linear Regression looks kinda high..\n",
    "  - Let's try Multiple Linear Regression (predicting based on multiple variables rather than just `TAX`) and see if that produces more accurate predictions\n",
    "\n",
    "1. Set X to contain all values that are not `PRICE` from the unsplit data\n",
    "  - i.e. `CRIM`, `ZN`, `INDUS`, `CHAS`, `NOX`, `RM`, `AGE`, `DIS`, `RAD`, `TAX`, `PTRATIO`, `B`, `LSTAT`\n",
    "  - Y to still represent just 1 target value (`PRICE`)\n",
    "    - also from the unsplit data\n"
   ]
  },
  {
   "cell_type": "code",
   "execution_count": null,
   "metadata": {
    "colab": {},
    "colab_type": "code",
    "id": "ZtQK5-f4M0Vg"
   },
   "outputs": [],
   "source": [
    "# set X to all variables except price\n",
    "mX = bos.drop('PRICE', axis=1)\n",
    "# and, like in the simple Linear Regression, set Y to price\n",
    "mY = bos['PRICE']"
   ]
  },
  {
   "cell_type": "markdown",
   "metadata": {
    "colab_type": "text",
    "id": "RTYG4-UwNDsK"
   },
   "source": [
    "2. Split the data into `multi_X_train`, `multi_X_test`, `Y_train`, and `Y_test`\n",
    "  - Use `cuML`'s `train_test_split`\n",
    "    - And the same 70:30 train:test ratio"
   ]
  },
  {
   "cell_type": "code",
   "execution_count": null,
   "metadata": {
    "colab": {
     "base_uri": "https://localhost:8080/",
     "height": 86
    },
    "colab_type": "code",
    "id": "EsKxK8u_F7t8",
    "outputId": "673a1a44-4d2f-4a45-8333-8f29782eaf65"
   },
   "outputs": [],
   "source": [
    "# train/test split (70:30)\n",
    "mX_train, mX_test, mY_train, mY_test = train_test_split(mX, mY, train_size=0.7)\n",
    "\n",
    "# see what it looks like\n",
    "print(mX_train.shape)\n",
    "print(mX_test.shape)\n",
    "print(mY_train.shape)\n",
    "print(mY_test.shape)"
   ]
  },
  {
   "cell_type": "markdown",
   "metadata": {
    "colab_type": "text",
    "id": "_Y40R17LGHsI"
   },
   "source": [
    "3. fit the model with `multi_X_train` and corresponding `PRICE` (*y_train*) values \n",
    "  - so it can build an understanding of their relationships \n",
    "4. predict `PRICE` (*y_test*) for the test set of independent (*multi_X_test*) values\n",
    "  - and compare `PRICE` predictions to actual median house (*y_test*) values\n",
    "    - use `sklearn`'s `mean_squared_error` to do this"
   ]
  },
  {
   "cell_type": "code",
   "execution_count": null,
   "metadata": {
    "colab": {
     "base_uri": "https://localhost:8080/",
     "height": 34
    },
    "colab_type": "code",
    "id": "N7qm1HuVO-1k",
    "outputId": "7e291cec-e602-4ad9-a5b3-b70d7261f63d"
   },
   "outputs": [],
   "source": [
    "# call Linear Regression model\n",
    "mlr = LinearRegression()\n",
    "\n",
    "# train the model for multiple regression\n",
    "mlr.fit(mX_train, mY_train)\n",
    "\n",
    "# make predictions for test X values\n",
    "mY_pred = mlr.predict(mX_test)\n",
    "\n",
    "# calculate error\n",
    "mlr_mse = mean_squared_error(mY_test, mY_pred)\n",
    "\n",
    "print(f'Mean Squared Error: {mlr_mse}')"
   ]
  },
  {
   "cell_type": "markdown",
   "metadata": {
    "colab_type": "text",
    "id": "jTdmleXCM_Xb"
   },
   "source": [
    "5. visualize with `matplotlib`"
   ]
  },
  {
   "cell_type": "code",
   "execution_count": null,
   "metadata": {
    "colab": {
     "base_uri": "https://localhost:8080/",
     "height": 305
    },
    "colab_type": "code",
    "id": "Q83NFMK1JKvL",
    "outputId": "569cfa77-a66e-4b1b-9d70-ae4ef8e7936e"
   },
   "outputs": [],
   "source": [
    "# scatter actual and predicted results\n",
    "plt.scatter(mY_test.to_pandas(), mY_pred.to_pandas())\n",
    "\n",
    "# label graph\n",
    "plt.xlabel(\"Actual Prices: $Y_i$\")\n",
    "plt.ylabel(\"Predicted prices: $\\hat{Y}_i$\")\n",
    "plt.title(\"Prices vs Predicted prices: $Y_i$ vs $\\hat{Y}_i$\")\n",
    "\n",
    "plt.show()"
   ]
  },
  {
   "cell_type": "markdown",
   "metadata": {
    "colab_type": "text",
    "id": "2X1RA6sgtZQ6"
   },
   "source": [
    "## Conclusion\n",
    "- looks like the multiple regression we ran does provide more accurate predictions than the simple linear regression\n",
    "  - this will not always be the case, so always be sure to check and confirm if the extra computing is worth it\n",
    "\n",
    "Anyways, that's how you implement both Simple and Multiple Linear Regression with `cuML`. Go forth and do great things. Thanks for stopping by!"
   ]
  },
  {
   "cell_type": "markdown",
   "metadata": {},
   "source": [
    "# Continued Learning \n",
    "Here are some resources to help fill in any gaps and provide a more complete picture.\n",
    "\n",
    "#### **StatQuest: Linear Models Pt.1 - Linear Regression**\n",
    "- Watch on YouTube: [https://youtu.be/4b5d3muPQmA](https://youtu.be/nk2CQITm_eo)\n",
    "- Channel: StatQuest with Josh Starmer ([Subscribe](https://www.youtube.com/channel/UCtYLUTtgS3k1Fg4y5tAhLbw?sub_confirmation=1))"
   ]
  },
  {
   "cell_type": "code",
   "execution_count": null,
   "metadata": {},
   "outputs": [],
   "source": [
    "from IPython.display import YouTubeVideo\n",
    "YouTubeVideo('nk2CQITm_eo', width=(1280*0.69), height=(720*0.69))"
   ]
  },
  {
   "cell_type": "markdown",
   "metadata": {},
   "source": [
    "#### **Linear regression**\n",
    "Wikipedia: [wikipedia.org/wiki/Linear_regression](https://en.wikipedia.org/wiki/Linear_regression)\n",
    "\n",
    "---\n",
    "#### [**Back to GitHub**](https://github.com/gumdropsteve/cuml_linear_regression)"
   ]
  }
 ],
 "metadata": {
  "accelerator": "GPU",
  "colab": {
   "collapsed_sections": [],
   "name": "LOCAL_intro_lin_reg_cuml",
   "provenance": []
  },
  "kernelspec": {
   "display_name": "RAPIDS Stable",
   "language": "python",
   "name": "rapids-stable"
  },
  "language_info": {
   "codemirror_mode": {
    "name": "ipython",
    "version": 3
   },
   "file_extension": ".py",
   "mimetype": "text/x-python",
   "name": "python",
   "nbconvert_exporter": "python",
   "pygments_lexer": "ipython3",
   "version": "3.7.6"
  }
 },
 "nbformat": 4,
 "nbformat_minor": 4
}
